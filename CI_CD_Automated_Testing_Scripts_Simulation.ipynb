{
  "nbformat": 4,
  "nbformat_minor": 0,
  "metadata": {
    "colab": {
      "provenance": [],
      "authorship_tag": "ABX9TyOM0fDSnvZJzi0RSB/P//Em",
      "include_colab_link": true
    },
    "kernelspec": {
      "name": "python3",
      "display_name": "Python 3"
    },
    "language_info": {
      "name": "python"
    }
  },
  "cells": [
    {
      "cell_type": "markdown",
      "metadata": {
        "id": "view-in-github",
        "colab_type": "text"
      },
      "source": [
        "<a href=\"https://colab.research.google.com/github/poisonkissedsk/Production-Grade-AI-QA-Suite/blob/main/CI_CD_Automated_Testing_Scripts_Simulation.ipynb\" target=\"_parent\"><img src=\"https://colab.research.google.com/assets/colab-badge.svg\" alt=\"Open In Colab\"/></a>"
      ]
    },
    {
      "cell_type": "code",
      "execution_count": 1,
      "metadata": {
        "colab": {
          "base_uri": "https://localhost:8080/"
        },
        "id": "_0ZuUfhDViwz",
        "outputId": "44123f9b-3122-4882-8ad2-abd28bfc666c"
      },
      "outputs": [
        {
          "output_type": "stream",
          "name": "stdout",
          "text": [
            "\u001b[2K   \u001b[90m━━━━━━━━━━━━━━━━━━━━━━━━━━━━━━━━━━━━━━━━\u001b[0m \u001b[32m240.0/240.0 kB\u001b[0m \u001b[31m2.9 MB/s\u001b[0m eta \u001b[36m0:00:00\u001b[0m\n",
            "\u001b[?25h"
          ]
        },
        {
          "output_type": "stream",
          "name": "stderr",
          "text": [
            "/tmp/ipython-input-1-390656116.py:36: SettingWithCopyWarning: \n",
            "A value is trying to be set on a copy of a slice from a DataFrame.\n",
            "Try using .loc[row_indexer,col_indexer] = value instead\n",
            "\n",
            "See the caveats in the documentation: https://pandas.pydata.org/pandas-docs/stable/user_guide/indexing.html#returning-a-view-versus-a-copy\n",
            "  X[numeric] = StandardScaler().fit_transform(X[numeric])\n"
          ]
        },
        {
          "output_type": "stream",
          "name": "stdout",
          "text": [
            "[PERFORMANCE CHECK] Accuracy: 0.8261\n",
            "[PASS] Model meets performance threshold.\n",
            "[BIAS AUDIT] Demographic Parity Difference (sex): 0.1797\n",
            "[PASS] Bias within acceptable limits.\n",
            "[ROBUSTNESS TEST] Prediction flips after perturbation: 1/100\n",
            "[PASS] Model predictions are stable under small perturbations.\n",
            "\n",
            "--- CI/CD TEST SUITE RESULT ---\n",
            "Performance Check: PASS\n",
            "Bias Audit: PASS\n",
            "Robustness Check: PASS\n",
            "\n",
            "[DEPLOYMENT STATUS: APPROVED ✅]\n"
          ]
        }
      ],
      "source": [
        "# 📒 Notebook 6: CI/CD Automated Testing Scripts Simulation (Google Colab)\n",
        "# Focus: Bias Audit, Robustness Check, Performance Check\n",
        "\n",
        "# -- SETUP --\n",
        "!pip install fairlearn scikit-learn pandas numpy --quiet\n",
        "\n",
        "import pandas as pd\n",
        "import numpy as np\n",
        "from sklearn.model_selection import train_test_split\n",
        "from sklearn.preprocessing import LabelEncoder, StandardScaler\n",
        "from sklearn.linear_model import LogisticRegression\n",
        "from sklearn.metrics import accuracy_score\n",
        "from fairlearn.metrics import demographic_parity_difference\n",
        "\n",
        "# -- FUNCTION: Load and Prepare Data --\n",
        "def load_preprocess_data():\n",
        "    url = 'https://archive.ics.uci.edu/ml/machine-learning-databases/adult/adult.data'\n",
        "    columns = [\n",
        "        'age', 'workclass', 'fnlwgt', 'education', 'education-num', 'marital-status',\n",
        "        'occupation', 'relationship', 'race', 'sex', 'capital-gain', 'capital-loss',\n",
        "        'hours-per-week', 'native-country', 'income'\n",
        "    ]\n",
        "    df = pd.read_csv(url, names=columns, na_values=' ?', skipinitialspace=True)\n",
        "    df.dropna(inplace=True)\n",
        "    df['label'] = (df['income'] == '>50K').astype(int)\n",
        "\n",
        "    categorical = ['workclass', 'education', 'marital-status', 'occupation', 'relationship', 'race', 'sex', 'native-country']\n",
        "    numeric = ['age', 'fnlwgt', 'education-num', 'capital-gain', 'capital-loss', 'hours-per-week']\n",
        "\n",
        "    for col in categorical:\n",
        "        df[col] = LabelEncoder().fit_transform(df[col])\n",
        "\n",
        "    X = df[categorical + numeric]\n",
        "    y = df['label']\n",
        "\n",
        "    X[numeric] = StandardScaler().fit_transform(X[numeric])\n",
        "    return train_test_split(X, y, stratify=y, test_size=0.25, random_state=42)\n",
        "\n",
        "# -- FUNCTION: Train Model --\n",
        "def train_model(X_train, y_train):\n",
        "    model = LogisticRegression(max_iter=500)\n",
        "    model.fit(X_train, y_train)\n",
        "    return model\n",
        "\n",
        "# -- CI/CD TEST 1: Performance Check --\n",
        "def test_model_performance(model, X_test, y_test, threshold=0.80):\n",
        "    accuracy = accuracy_score(y_test, model.predict(X_test))\n",
        "    print(f\"[PERFORMANCE CHECK] Accuracy: {accuracy:.4f}\")\n",
        "    if accuracy >= threshold:\n",
        "        print(\"[PASS] Model meets performance threshold.\")\n",
        "        return True\n",
        "    else:\n",
        "        print(\"[FAIL] Model below acceptable accuracy threshold!\")\n",
        "        return False\n",
        "\n",
        "# -- CI/CD TEST 2: Bias Audit (Demographic Parity) --\n",
        "def test_bias_audit(model, X_test, y_test, feature_name='sex', max_dpd=0.2):\n",
        "    sensitive_feature = X_test[feature_name]\n",
        "    preds = model.predict(X_test)\n",
        "    dpd = demographic_parity_difference(y_test, preds, sensitive_features=sensitive_feature)\n",
        "    print(f\"[BIAS AUDIT] Demographic Parity Difference ({feature_name}): {dpd:.4f}\")\n",
        "    if abs(dpd) <= max_dpd:\n",
        "        print(\"[PASS] Bias within acceptable limits.\")\n",
        "        return True\n",
        "    else:\n",
        "        print(\"[FAIL] Detected bias above threshold!\")\n",
        "        return False\n",
        "\n",
        "# -- CI/CD TEST 3: Robustness Check (Perturbation Stability) --\n",
        "def test_prediction_robustness(model, X_test, numeric_cols, max_flips=10):\n",
        "    sample = X_test.sample(n=100, random_state=42)\n",
        "    orig_preds = model.predict(sample)\n",
        "\n",
        "    perturbed_sample = sample.copy()\n",
        "    perturbed_sample[numeric_cols] += np.random.normal(0, 0.02, perturbed_sample[numeric_cols].shape)\n",
        "    perturbed_preds = model.predict(perturbed_sample)\n",
        "\n",
        "    flips = (orig_preds != perturbed_preds).sum()\n",
        "    print(f\"[ROBUSTNESS TEST] Prediction flips after perturbation: {flips}/100\")\n",
        "\n",
        "    if flips <= max_flips:\n",
        "        print(\"[PASS] Model predictions are stable under small perturbations.\")\n",
        "        return True\n",
        "    else:\n",
        "        print(\"[FAIL] Model unstable under perturbations!\")\n",
        "        return False\n",
        "\n",
        "# -- RUN ALL TESTS (CI/CD Simulation) --\n",
        "\n",
        "X_train, X_test, y_train, y_test = load_preprocess_data()\n",
        "numeric_cols = ['age', 'fnlwgt', 'education-num', 'capital-gain', 'capital-loss', 'hours-per-week']\n",
        "\n",
        "model = train_model(X_train, y_train)\n",
        "\n",
        "results = {\n",
        "    'Performance Check': test_model_performance(model, X_test, y_test),\n",
        "    'Bias Audit': test_bias_audit(model, X_test, y_test, feature_name='sex'),\n",
        "    'Robustness Check': test_prediction_robustness(model, X_test, numeric_cols)\n",
        "}\n",
        "\n",
        "# -- FINAL SUMMARY --\n",
        "print(\"\\n--- CI/CD TEST SUITE RESULT ---\")\n",
        "for test, result in results.items():\n",
        "    print(f\"{test}: {'PASS' if result else 'FAIL'}\")\n",
        "\n",
        "if all(results.values()):\n",
        "    print(\"\\n[DEPLOYMENT STATUS: APPROVED ✅]\")\n",
        "else:\n",
        "    print(\"\\n[DEPLOYMENT STATUS: BLOCKED ❌]\")\n"
      ]
    }
  ]
}