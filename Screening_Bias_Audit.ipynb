{
  "nbformat": 4,
  "nbformat_minor": 0,
  "metadata": {
    "colab": {
      "provenance": [],
      "authorship_tag": "ABX9TyMjyealki1WfLlOPXP0n6bB",
      "include_colab_link": true
    },
    "kernelspec": {
      "name": "python3",
      "display_name": "Python 3"
    },
    "language_info": {
      "name": "python"
    }
  },
  "cells": [
    {
      "cell_type": "markdown",
      "metadata": {
        "id": "view-in-github",
        "colab_type": "text"
      },
      "source": [
        "<a href=\"https://colab.research.google.com/github/poisonkissedsk/Production-Grade-AI-QA-Suite/blob/main/Screening_Bias_Audit.ipynb\" target=\"_parent\"><img src=\"https://colab.research.google.com/assets/colab-badge.svg\" alt=\"Open In Colab\"/></a>"
      ]
    },
    {
      "cell_type": "code",
      "execution_count": 4,
      "metadata": {
        "colab": {
          "base_uri": "https://localhost:8080/",
          "height": 979
        },
        "id": "pEj5SNGUReuk",
        "outputId": "320a382c-3e6e-4eca-f07e-d96b54b27a43"
      },
      "outputs": [
        {
          "output_type": "stream",
          "name": "stderr",
          "text": [
            "/tmp/ipython-input-4-1127329539.py:45: SettingWithCopyWarning: \n",
            "A value is trying to be set on a copy of a slice from a DataFrame.\n",
            "Try using .loc[row_indexer,col_indexer] = value instead\n",
            "\n",
            "See the caveats in the documentation: https://pandas.pydata.org/pandas-docs/stable/user_guide/indexing.html#returning-a-view-versus-a-copy\n",
            "  X[numeric] = StandardScaler().fit_transform(X[numeric])\n"
          ]
        },
        {
          "output_type": "stream",
          "name": "stdout",
          "text": [
            "Model Accuracy: 0.8261\n",
            "\n",
            "Selection Rates by Group:\n",
            "sex  race\n",
            "0    0       0.000000\n",
            "     1       0.037037\n",
            "     2       0.020151\n",
            "     3       0.066667\n",
            "     4       0.037709\n",
            "1    0       0.089286\n",
            "     1       0.205882\n",
            "     2       0.092500\n",
            "     3       0.043478\n",
            "     4       0.228107\n",
            "Name: selection_rate, dtype: float64\n",
            "\n",
            "Demographic Parity Difference (Sex): 0.1797\n",
            "Demographic Parity Difference (Race): 0.1200\n",
            "\n",
            "Equalized Odds Difference (Sex): 0.2642\n",
            "Equalized Odds Difference (Race): 0.1205\n"
          ]
        },
        {
          "output_type": "display_data",
          "data": {
            "text/plain": [
              "<Figure size 1000x500 with 1 Axes>"
            ],
            "image/png": "[encoded data removed]"
          },
          "metadata": {}
        }
      ],
      "source": [
        "# 📒 Notebook 1: Screening Bias Audit - UCI Adult Dataset (Google Colab)\n",
        "\n",
        "# -- SETUP --\n",
        "!pip install fairlearn scikit-learn pandas matplotlib seaborn --quiet\n",
        "\n",
        "import pandas as pd\n",
        "import numpy as np\n",
        "import matplotlib.pyplot as plt\n",
        "import seaborn as sns\n",
        "\n",
        "from sklearn.model_selection import train_test_split\n",
        "from sklearn.preprocessing import LabelEncoder, StandardScaler\n",
        "from sklearn.linear_model import LogisticRegression\n",
        "from sklearn.metrics import accuracy_score\n",
        "\n",
        "from fairlearn.metrics import MetricFrame, selection_rate, demographic_parity_difference, equalized_odds_difference\n",
        "# from fairlearn.widget import FairlearnDashboard # Commented out as it's not supported in Colab\n",
        "\n",
        "# -- LOAD DATA --\n",
        "\n",
        "url = 'https://archive.ics.uci.edu/ml/machine-learning-databases/adult/adult.data'\n",
        "columns = [\n",
        "    'age', 'workclass', 'fnlwgt', 'education', 'education-num', 'marital-status',\n",
        "    'occupation', 'relationship', 'race', 'sex', 'capital-gain', 'capital-loss',\n",
        "    'hours-per-week', 'native-country', 'income'\n",
        "]\n",
        "\n",
        "df = pd.read_csv(url, names=columns, na_values=' ?', skipinitialspace=True)\n",
        "df.dropna(inplace=True)\n",
        "\n",
        "# Label: 1 if income >50K else 0\n",
        "df['label'] = (df['income'] == '>50K').astype(int)\n",
        "\n",
        "# -- PREPROCESS --\n",
        "\n",
        "categorical = ['workclass', 'education', 'marital-status', 'occupation', 'relationship', 'race', 'sex', 'native-country']\n",
        "numeric = ['age', 'fnlwgt', 'education-num', 'capital-gain', 'capital-loss', 'hours-per-week']\n",
        "\n",
        "for col in categorical:\n",
        "    df[col] = LabelEncoder().fit_transform(df[col])\n",
        "\n",
        "X = df[categorical + numeric]\n",
        "y = df['label']\n",
        "\n",
        "X[numeric] = StandardScaler().fit_transform(X[numeric])\n",
        "\n",
        "# -- SPLIT & TRAIN --\n",
        "\n",
        "X_train, X_test, y_train, y_test = train_test_split(X, y, stratify=y, test_size=0.25, random_state=42)\n",
        "\n",
        "model = LogisticRegression(max_iter=500)\n",
        "model.fit(X_train, y_train)\n",
        "y_pred = model.predict(X_test)\n",
        "\n",
        "print(f\"Model Accuracy: {accuracy_score(y_test, y_pred):.4f}\")\n",
        "\n",
        "# -- BIAS AUDIT (Fairlearn) --\n",
        "\n",
        "sensitive_features = X_test[['sex', 'race']]\n",
        "\n",
        "metric_frame = MetricFrame(\n",
        "    metrics={\n",
        "        'selection_rate': selection_rate,\n",
        "        'accuracy': accuracy_score\n",
        "    },\n",
        "    y_true=y_test,\n",
        "    y_pred=y_pred,\n",
        "    sensitive_features=sensitive_features\n",
        ")\n",
        "\n",
        "print(\"\\nSelection Rates by Group:\")\n",
        "print(metric_frame.by_group['selection_rate'])\n",
        "\n",
        "dpd_sex = demographic_parity_difference(y_test, y_pred, sensitive_features=X_test['sex'])\n",
        "dpd_race = demographic_parity_difference(y_test, y_pred, sensitive_features=X_test['race'])\n",
        "\n",
        "print(f\"\\nDemographic Parity Difference (Sex): {dpd_sex:.4f}\")\n",
        "print(f\"Demographic Parity Difference (Race): {dpd_race:.4f}\")\n",
        "\n",
        "eod_sex = equalized_odds_difference(y_test, y_pred, sensitive_features=X_test['sex'])\n",
        "eod_race = equalized_odds_difference(y_test, y_pred, sensitive_features=X_test['race'])\n",
        "\n",
        "print(f\"\\nEqualized Odds Difference (Sex): {eod_sex:.4f}\")\n",
        "print(f\"Equalized Odds Difference (Race): {eod_race:.4f}\")\n",
        "\n",
        "# -- VISUALIZE --\n",
        "\n",
        "metric_frame.by_group['selection_rate'].plot(kind='bar', title='Selection Rate by Group', ylabel='Selection Rate', figsize=(10,5))\n",
        "plt.grid()\n",
        "plt.show()\n",
        "\n",
        "# -- OPTIONAL: Launch Fairlearn Dashboard (for local Jupyter, not supported in Colab)\n",
        "# FairlearnDashboard(sensitive_features=sensitive_features, y_true=y_test, y_pred=y_pred) # Commented out as it's not supported in Colab"
      ]
    }
  ]
}